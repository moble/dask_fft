{
 "cells": [
  {
   "cell_type": "code",
   "execution_count": 10,
   "metadata": {
    "collapsed": true
   },
   "outputs": [],
   "source": [
    "import sys\n",
    "import numpy as np\n",
    "import h5py\n",
    "\n",
    "oneGB_complex = 64 * 1024**2"
   ]
  },
  {
   "cell_type": "code",
   "execution_count": 6,
   "metadata": {
    "collapsed": true
   },
   "outputs": [],
   "source": [
    "def h5py_File_with_cache(name, mode='a', chunk_cache_mem_size=1024**2, w0=0.75, n_cache_chunks=2, **kwds):\n",
    "    \"\"\"Create h5py File object with cache specification\n",
    "    \n",
    "    This function is basically just a wrapper around the usual h5py.File constructor,\n",
    "    but accepts two additional keywords:\n",
    "    \n",
    "    Parameters\n",
    "    ----------\n",
    "    [various]\n",
    "        Standard h5py.File arguments\n",
    "    chunk_cache_mem_size : int\n",
    "        Number of bytes to use for the chunk cache.  Defaults to 1024**2 (1MB), which\n",
    "        is also the default for h5py.File -- though it cannot be changed through the\n",
    "        standard interface.\n",
    "    w0 : float between 0.0 and 1.0\n",
    "        Eviction parameter.  Defaults to 0.75.  \"If the application will access the\n",
    "        same data more than once, w0 should be set closer to 0, and if the application\n",
    "        does not, w0 should be set closer to 1.\"\n",
    "          --- <https://www.hdfgroup.org/HDF5/doc/Advanced/Chunking/>\n",
    "    n_cache_chunks : int\n",
    "        Number of chunks to be kept in cache at a time.  Defaults to 2.  Make this\n",
    "        whatever you need to work on at a time.\n",
    "    \n",
    "    \"\"\"\n",
    "    import sys\n",
    "    import numpy as np\n",
    "    import h5py\n",
    "    name = name.encode(sys.getfilesystemencoding())\n",
    "    open(name, mode).close()  # Just make sure the file exists\n",
    "    if 'dtype' in kwds:\n",
    "        bytes_per_object = np.dtype(kwds['dtype']).itemsize\n",
    "    else:\n",
    "        bytes_per_object = np.dtype(np.float).itemsize  # assume float as most likely\n",
    "    nslots = 100 * n_cache_chunks\n",
    "    propfaid = h5py.h5p.create(h5py.h5p.FILE_ACCESS)\n",
    "    settings = list(propfaid.get_cache())\n",
    "    settings[1:] = (nslots, chunk_cache_mem_size, w0)\n",
    "    propfaid.set_cache(*settings)\n",
    "    return h5py.File(h5py.h5f.open(name, fapl=propfaid), **kwds)\n"
   ]
  },
  {
   "cell_type": "code",
   "execution_count": 75,
   "metadata": {
    "collapsed": true
   },
   "outputs": [],
   "source": [
    "def transpose_hdf5(dset_in, file_name_out, dset_name_out, chunk_cache_mem_size=1024**3, w0=1.0,\n",
    "                   R2=None, C2=None, close_file_when_done=False, access_axis=1):\n",
    "    \"\"\"Transpose large matrix in HDF5 for fast access on transposed row\n",
    "    \n",
    "    Assuming the input dataset is chunked along its column (second) index, this function\n",
    "    transposes it to an output dataset that is chunked along its column index.  Done naively,\n",
    "    this operation can be extraordinarily slow, because we need to access rows in the input\n",
    "    in order to write columns in the output.  But row access is slow because the entire\n",
    "    column chunk needs to be read.  A similar problem occurs for writing.\n",
    "    \n",
    "    This function splits the difference, using the chunk cache to maximum advantage.  Roughly\n",
    "    speaking, if we have sufficient memory to store M elements, we can set the output chunk\n",
    "    size to sqrt(M) and process sqrt(M) chunks at a time.\n",
    "    \n",
    "    The input dataset may actually be one-dimensional, but interpreted as a matrix of shape\n",
    "    R1xC1 = C2xR2.  Or the input may simply be a matrix of that shape, in which case R2 and\n",
    "    C2 will be inferred.\n",
    "    \n",
    "    \n",
    "    Parameters\n",
    "    ----------\n",
    "    dset_in : h5py.Dataset\n",
    "        Open dataset in an h5py File object used as input.\n",
    "    \n",
    "    file_name_out : str\n",
    "    dset_name_out : str\n",
    "        Names of file and dataset in that file used for output.\n",
    "    \n",
    "    chunk_cache_mem_size : int\n",
    "    w0 : float\n",
    "        Parameters passed to `h5py_File_with_cache`.  See that function's documentation.\n",
    "    \n",
    "    R2, C2 : int\n",
    "        Number of rows and columns in returned dataset.  These default to None, in which case\n",
    "        the shape is inferred from the shape of the input.  Note that if the input is 1-D,\n",
    "        this could turn out badly because each row will have just one element, which will be\n",
    "        slow.\n",
    "    \n",
    "    close_file_when_done : bool\n",
    "        If True, close output file and return None.  If False, return file handle and dataset.\n",
    "        Default is False.\n",
    "        \n",
    "    access_axis : int\n",
    "        Axis along which the output array will be accessed.  Default is 1, meaning the second\n",
    "        (column) index.  Anything else will be interpreted as 0.\n",
    "    \n",
    "    \n",
    "    \"\"\"\n",
    "    import numpy as np\n",
    "    import h5py\n",
    "    \n",
    "    # Figure out the basic output sizes\n",
    "    if R2 is None:\n",
    "        if len(dset_in.shape)>1:\n",
    "            R2 = dset_in.shape[1]\n",
    "        else:\n",
    "            R2 = 1\n",
    "    if C2 is None:\n",
    "        C2 = dset_in.shape[0]\n",
    "\n",
    "    bytes_per_object = np.dtype(dset_in.dtype).itemsize\n",
    "    num_chunk_elements = chunk_cache_mem_size // bytes_per_object\n",
    "    sqrt_n_c_e = int(np.sqrt(num_chunk_elements))\n",
    "    \n",
    "    assert R2*C2 == dset_in.size, \"Requested size {0}*{1}={2} is incompatible with input size {3}\".format(R2, C2, R2*C2, dset_in.size)\n",
    "    \n",
    "    # If the transposition can be done in memory, just do it\n",
    "    if dset_in.size <= num_chunk_elements:\n",
    "        print(\"Doing transpose in memory\")\n",
    "        file_out = h5py.File(file_name_out, 'a')\n",
    "        if dset_name_out in file_out:\n",
    "            del file_out[dset_name_out]\n",
    "        dset_out = file_out.create_dataset(dset_name_out, shape=(R2, C2), dtype=dset_in.dtype)\n",
    "        dset_out[:] = dset_in[:].reshape(C2, R2).T\n",
    "        \n",
    "    else:\n",
    "\n",
    "        # Set up output file and dset\n",
    "        if access_axis == 1:\n",
    "            n_cache_chunks = min(sqrt_n_c_e, R2)\n",
    "            chunk_size = min(num_chunk_elements//n_cache_chunks, C2)\n",
    "            chunks = (1, chunk_size)\n",
    "        else:\n",
    "            n_cache_chunks = min(sqrt_n_c_e, C2)\n",
    "            chunk_size = min(num_chunk_elements//n_cache_chunks, R2)\n",
    "            chunks = (chunk_size, 1)\n",
    "        file_out = h5py_File_with_cache(file_name_out, 'a', chunk_cache_mem_size, w0, n_cache_chunks)\n",
    "        if dset_name_out in file_out:\n",
    "            del file_out[dset_name_out]\n",
    "        dset_out = file_out.create_dataset(dset_name_out, shape=(R2, C2), dtype=x.dtype, chunks=chunks)\n",
    "\n",
    "        # Depending on whether input is 1-D or 2-D, we do this differently\n",
    "        if len(dset_in.shape)==1:\n",
    "            def submatrix_dset_in(r2a, r2b, c2a, c2b):\n",
    "                temp = np.empty((c2b-c2a, r2b-r2a), dtype=dset_in.dtype)\n",
    "                C1 = R2\n",
    "                c1a, c1b = r2a, r2b\n",
    "                for r1 in range(c2a, c2b):\n",
    "                    try:\n",
    "                        temp[r1-c2a] = dset_in[r1*C1+c1a:r1*C1+c1b]\n",
    "                    except ValueError:\n",
    "                        print(r2a, r2b, \"\\t\", c2a, c2b, \"\\n\", r1, c1a, c1b, \"\\t\", C1)\n",
    "                        print(r1-c2a, r1*C1+c1a, r1*C1+c1b, dset_in.shape, temp.shape)\n",
    "                        raise\n",
    "                return temp\n",
    "        else:\n",
    "            def submatrix_dset_in(r2a, r2b, c2a, c2b):\n",
    "                return dset_in[c2a:c2b, r2a:r2b]\n",
    "\n",
    "        # Do the transposition\n",
    "        for c2a in range(0, C2, chunk_size):\n",
    "            for r2a in range(0, R2, n_cache_chunks):\n",
    "                c2b = min(C2, c2a+chunk_size)\n",
    "                r2b = min(R2, r2a+n_cache_chunks)\n",
    "                dset_out[r2a:r2b, c2a:c2b] = submatrix_dset_in(r2a, r2b, c2a, c2b).T\n",
    "\n",
    "    if close_file_when_done:\n",
    "        file_out.close()\n",
    "        return\n",
    "    else:\n",
    "        return file_out, dset_out"
   ]
  },
  {
   "cell_type": "code",
   "execution_count": 112,
   "metadata": {
    "collapsed": false
   },
   "outputs": [
    {
     "name": "stdout",
     "output_type": "stream",
     "text": [
      "Creating test data of 134217728 points\n",
      "          Generating and writing:   8.83 s\n",
      "Finished writing test data to file\n"
     ]
    }
   ],
   "source": [
    "# Write a test file\n",
    "\n",
    "np.random.seed(1234)\n",
    "N = oneGB_complex * 2\n",
    "N_creation = min(16*1024**2, N)\n",
    "print(\"Creating test data of {0} points\".format(N)); sys.stdout.flush()\n",
    "# %tic Just random numbers\n",
    "# for k in range(0, N, N_creation):\n",
    "#     size = min(N-k, N_creation)\n",
    "#     tmp = np.random.random(size) + 1j*np.random.random(size)\n",
    "# %toc\n",
    "%tic Generating and writing\n",
    "with h5py.File('/Users/boyle/Research/Temp/test_in.h5', 'w') as f:\n",
    "    x = f.create_dataset('x', shape=(N,), dtype=complex)\n",
    "    N_creation = 16*1024**2\n",
    "    for k in range(0, N, N_creation):\n",
    "        size = min(N-k, N_creation)\n",
    "        x[k:k+size] = np.random.random(size) + 1j*np.random.random(size)\n",
    "%toc\n",
    "print(\"Finished writing test data to file\")"
   ]
  },
  {
   "cell_type": "code",
   "execution_count": 115,
   "metadata": {
    "collapsed": false
   },
   "outputs": [
    {
     "name": "stdout",
     "output_type": "stream",
     "text": [
      "            9.99 s\n",
      "            9.33 s\n",
      "True\n",
      "-rw-r--r--+ 1 boyle  staff   2.0G Jan 25 12:44 /Users/boyle/Research/Temp/test_in.h5\n",
      "-rw-r--r--+ 1 boyle  staff   2.0G Jan 25 12:53 /Users/boyle/Research/Temp/test_transpose.h5\n",
      "-rw-r--r--+ 1 boyle  staff   2.0G Jan 25 12:53 /Users/boyle/Research/Temp/test_transpose2.h5\n",
      "x                        Dataset {131072, 1024}\n",
      "x                        Dataset {1024, 131072}\n"
     ]
    }
   ],
   "source": [
    "# %%prun\n",
    "\n",
    "# Profiling with the above line shows that the main time-wasters for large N are dataset.__getitem__ and dataset.__setitem__\n",
    "# This is not a surprise, of course.  The question is whether or not it's possible to do much better with better chunking, etc.\n",
    "# I suspect I can't do too much better since timing the cell above suggests that it takes about one fourth as much time just\n",
    "# to write data to the file.  So between reading and writing, and constructing the file\n",
    "\n",
    "! /bin/rm -f /Users/boyle/Research/Temp/test_transpose.h5\n",
    "\n",
    "with h5py.File('/Users/boyle/Research/Temp/test_in.h5', 'r') as f:\n",
    "    x = f['x']\n",
    "    R2, C2 = N//1024, 1024\n",
    "    %tic\n",
    "    f2, d = transpose_hdf5(x, '/Users/boyle/Research/Temp/test_transpose.h5', 'x', R2=R2, C2=C2, chunk_cache_mem_size=1024**3)\n",
    "    %toc\n",
    "    if x.size <= oneGB_complex//2:\n",
    "        print(np.array_equal(x[:].reshape(C2, R2).T, d[:]))\n",
    "    f2.close()\n",
    "\n",
    "with h5py.File('/Users/boyle/Research/Temp/test_transpose.h5', 'r') as f:\n",
    "    x = f['x']\n",
    "    %tic\n",
    "    f2, d = transpose_hdf5(x, '/Users/boyle/Research/Temp/test_transpose2.h5', 'x', chunk_cache_mem_size=1024**3)\n",
    "    %toc\n",
    "    if x.size <= oneGB_complex//2:\n",
    "        print(np.array_equal(x[:].T, d[:]))\n",
    "    else:\n",
    "        print(np.all([np.array_equal(x[c2a:c2b, r2a:r2b].T, d[r2a:r2b, c2a:c2b])\n",
    "                      for r2a in range(0, R2, min(R2, C2)) for r2b in [min(R2, r2a+min(R2, C2))]\n",
    "                      for c2a in range(0, C2, min(R2, C2)) for c2b in []]))\n",
    "    f2.close()\n",
    "    \n",
    "! ls -lah /Users/boyle/Research/Temp/test_in.h5 /Users/boyle/Research/Temp/test_transpose.h5 /Users/boyle/Research/Temp/test_transpose2.h5\n",
    "! h5ls /Users/boyle/Research/Temp/test_transpose.h5\n",
    "! h5ls /Users/boyle/Research/Temp/test_transpose2.h5\n",
    "! /bin/rm -f /Users/boyle/Research/Temp/test_transpose.h5\n",
    "! /bin/rm -f /Users/boyle/Research/Temp/test_transpose2.h5"
   ]
  },
  {
   "cell_type": "code",
   "execution_count": 102,
   "metadata": {
    "collapsed": true
   },
   "outputs": [],
   "source": [
    "times = {\n",
    "    oneGB_complex//64: 0.387,\n",
    "    oneGB_complex//32: 0.792,\n",
    "    oneGB_complex//16: 1.73,\n",
    "    oneGB_complex//8 : 4.03,\n",
    "    oneGB_complex//4 : 6.76,\n",
    "    oneGB_complex//2 : 13.5,\n",
    "    oneGB_complex    : 29.4,\n",
    "    2*oneGB_complex  : 63.0,\n",
    "    4*oneGB_complex  : 314.0,\n",
    "    8*oneGB_complex  : 782.0,\n",
    "    #16*oneGB_complex : 0,\n",
    "}\n",
    "\n",
    "times2 = {\n",
    "    oneGB_complex//64: 0.0461,\n",
    "    oneGB_complex//32: 0.104,\n",
    "    oneGB_complex//16: 0.219,\n",
    "    oneGB_complex//8 : 0.405,\n",
    "    oneGB_complex//4 : 0.902,\n",
    "    oneGB_complex//2 : 1.96,\n",
    "    oneGB_complex    : 3.94,\n",
    "    2*oneGB_complex  : 8.41,\n",
    "    4*oneGB_complex  : 31.1,\n",
    "    8*oneGB_complex  : 85.0,\n",
    "    16*oneGB_complex : 209.0,\n",
    "}"
   ]
  },
  {
   "cell_type": "code",
   "execution_count": null,
   "metadata": {
    "collapsed": true
   },
   "outputs": [],
   "source": []
  },
  {
   "cell_type": "code",
   "execution_count": 61,
   "metadata": {
    "collapsed": true
   },
   "outputs": [],
   "source": [
    "import matplotlib as mpl\n",
    "import matplotlib.pyplot as plt\n",
    "%matplotlib inline\n",
    "%config InlineBackend.figure_format = \"retina\""
   ]
  },
  {
   "cell_type": "code",
   "execution_count": 103,
   "metadata": {
    "collapsed": false
   },
   "outputs": [
    {
     "data": {
      "text/plain": [
       "[<matplotlib.lines.Line2D at 0x10b0d1a20>]"
      ]
     },
     "execution_count": 103,
     "metadata": {},
     "output_type": "execute_result"
    },
    {
     "data": {
      "image/png": "[encoded data removed]",
      "text/plain": [
       "<matplotlib.figure.Figure at 0x117363a58>"
      ]
     },
     "metadata": {
      "image/png": {
       "height": 374,
       "width": 726
      }
     },
     "output_type": "display_data"
    }
   ],
   "source": [
    "def scaling(size):\n",
    "    return size*np.log2(size)\n",
    "sizes = np.array(sorted(times.keys()))\n",
    "timings = np.array(sorted(times.values()))\n",
    "plt.loglog(sizes, timings)\n",
    "plt.loglog(sizes, scaling(sizes)*(timings[0]/scaling(sizes[0])))\n",
    "sizes = np.array(sorted(times2.keys()))\n",
    "timings = np.array(sorted(times2.values()))\n",
    "plt.loglog(sizes, timings)\n",
    "plt.loglog(sizes, scaling(sizes)*(timings[0]/scaling(sizes[0])))"
   ]
  },
  {
   "cell_type": "code",
   "execution_count": null,
   "metadata": {
    "collapsed": true
   },
   "outputs": [],
   "source": []
  },
  {
   "cell_type": "code",
   "execution_count": null,
   "metadata": {
    "collapsed": true
   },
   "outputs": [],
   "source": []
  },
  {
   "cell_type": "code",
   "execution_count": null,
   "metadata": {
    "collapsed": true
   },
   "outputs": [],
   "source": []
  },
  {
   "cell_type": "code",
   "execution_count": null,
   "metadata": {
    "collapsed": true
   },
   "outputs": [],
   "source": []
  },
  {
   "cell_type": "code",
   "execution_count": null,
   "metadata": {
    "collapsed": true
   },
   "outputs": [],
   "source": []
  },
  {
   "cell_type": "code",
   "execution_count": null,
   "metadata": {
    "collapsed": true
   },
   "outputs": [],
   "source": []
  },
  {
   "cell_type": "code",
   "execution_count": null,
   "metadata": {
    "collapsed": true
   },
   "outputs": [],
   "source": []
  },
  {
   "cell_type": "code",
   "execution_count": null,
   "metadata": {
    "collapsed": true
   },
   "outputs": [],
   "source": []
  },
  {
   "cell_type": "code",
   "execution_count": null,
   "metadata": {
    "collapsed": true
   },
   "outputs": [],
   "source": []
  },
  {
   "cell_type": "code",
   "execution_count": null,
   "metadata": {
    "collapsed": true
   },
   "outputs": [],
   "source": []
  },
  {
   "cell_type": "code",
   "execution_count": null,
   "metadata": {
    "collapsed": true
   },
   "outputs": [],
   "source": []
  }
 ],
 "metadata": {
  "kernelspec": {
   "display_name": "Python 3",
   "language": "python",
   "name": "python3"
  },
  "language_info": {
   "codemirror_mode": {
    "name": "ipython",
    "version": 3
   },
   "file_extension": ".py",
   "mimetype": "text/x-python",
   "name": "python",
   "nbconvert_exporter": "python",
   "pygments_lexer": "ipython3",
   "version": "3.5.1"
  }
 },
 "nbformat": 4,
 "nbformat_minor": 0
}
